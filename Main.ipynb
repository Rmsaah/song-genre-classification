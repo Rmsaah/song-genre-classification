{
 "cells": [
  {
   "cell_type": "code",
   "id": "initial_id",
   "metadata": {
    "collapsed": true,
    "ExecuteTime": {
     "end_time": "2024-12-30T10:40:11.105243Z",
     "start_time": "2024-12-30T10:40:10.193163Z"
    }
   },
   "source": [
    "import pandas as pd\n",
    "from sklearn.model_selection import train_test_split\n",
    "from sklearn.preprocessing import LabelEncoder\n",
    "from sklearn.feature_extraction.text import TfidfVectorizer\n",
    "from gensim.models import Word2Vec\n",
    "import joblib\n",
    "import numpy as np\n",
    "import re\n",
    "import nltk"
   ],
   "outputs": [],
   "execution_count": 1
  },
  {
   "metadata": {},
   "cell_type": "code",
   "source": [
    "nltk.download('stopwords')\n",
    "nltk.download('punkt')\n",
    "nltk.download('punkt_tab')\n",
    "nltk.download('wordnet')"
   ],
   "id": "682ecbc1d77e681b",
   "outputs": [],
   "execution_count": null
  },
  {
   "metadata": {},
   "cell_type": "markdown",
   "source": "## Data Cleaning",
   "id": "e7e891244bd5fa4b"
  },
  {
   "metadata": {
    "ExecuteTime": {
     "end_time": "2024-12-30T10:41:43.184326Z",
     "start_time": "2024-12-30T10:40:11.112355Z"
    }
   },
   "cell_type": "code",
   "source": [
    "# Load the dataset\n",
    "data_path = 'data/song_lyrics.csv'\n",
    "df = pd.read_csv(data_path)"
   ],
   "id": "f3c17bad13181493",
   "outputs": [],
   "execution_count": 2
  },
  {
   "metadata": {
    "ExecuteTime": {
     "end_time": "2024-12-30T10:41:44.871314Z",
     "start_time": "2024-12-30T10:41:43.480156Z"
    }
   },
   "cell_type": "code",
   "source": [
    "# checking\n",
    "print(df.shape, '\\n', '-' * 80)\n",
    "print(df.isnull().sum(), '\\n', '-' * 80)\n",
    "df.head()"
   ],
   "id": "6a4254e44570d308",
   "outputs": [
    {
     "name": "stdout",
     "output_type": "stream",
     "text": [
      "(5134856, 11) \n",
      " --------------------------------------------------------------------------------\n",
      "title               188\n",
      "tag                   0\n",
      "artist                0\n",
      "year                  0\n",
      "views                 0\n",
      "features              0\n",
      "lyrics                0\n",
      "id                    0\n",
      "language_cld3     90966\n",
      "language_ft      134322\n",
      "language         226918\n",
      "dtype: int64 \n",
      " --------------------------------------------------------------------------------\n"
     ]
    },
    {
     "data": {
      "text/plain": [
       "               title  tag     artist  year   views  \\\n",
       "0          Killa Cam  rap    Cam'ron  2004  173166   \n",
       "1         Can I Live  rap      JAY-Z  1996  468624   \n",
       "2  Forgive Me Father  rap   Fabolous  2003    4743   \n",
       "3       Down and Out  rap    Cam'ron  2004  144404   \n",
       "4             Fly In  rap  Lil Wayne  2005   78271   \n",
       "\n",
       "                                       features  \\\n",
       "0                   {\"Cam\\\\'ron\",\"Opera Steve\"}   \n",
       "1                                            {}   \n",
       "2                                            {}   \n",
       "3  {\"Cam\\\\'ron\",\"Kanye West\",\"Syleena Johnson\"}   \n",
       "4                                            {}   \n",
       "\n",
       "                                              lyrics  id language_cld3  \\\n",
       "0  [Chorus: Opera Steve & Cam'ron]\\nKilla Cam, Ki...   1            en   \n",
       "1  [Produced by Irv Gotti]\\n\\n[Intro]\\nYeah, hah,...   3            en   \n",
       "2  Maybe cause I'm eatin\\nAnd these bastards fien...   4            en   \n",
       "3  [Produced by Kanye West and Brian Miller]\\n\\n[...   5            en   \n",
       "4  [Intro]\\nSo they ask me\\n\"Young boy\\nWhat you ...   6            en   \n",
       "\n",
       "  language_ft language  \n",
       "0          en       en  \n",
       "1          en       en  \n",
       "2          en       en  \n",
       "3          en       en  \n",
       "4          en       en  "
      ],
      "text/html": [
       "<div>\n",
       "<style scoped>\n",
       "    .dataframe tbody tr th:only-of-type {\n",
       "        vertical-align: middle;\n",
       "    }\n",
       "\n",
       "    .dataframe tbody tr th {\n",
       "        vertical-align: top;\n",
       "    }\n",
       "\n",
       "    .dataframe thead th {\n",
       "        text-align: right;\n",
       "    }\n",
       "</style>\n",
       "<table border=\"1\" class=\"dataframe\">\n",
       "  <thead>\n",
       "    <tr style=\"text-align: right;\">\n",
       "      <th></th>\n",
       "      <th>title</th>\n",
       "      <th>tag</th>\n",
       "      <th>artist</th>\n",
       "      <th>year</th>\n",
       "      <th>views</th>\n",
       "      <th>features</th>\n",
       "      <th>lyrics</th>\n",
       "      <th>id</th>\n",
       "      <th>language_cld3</th>\n",
       "      <th>language_ft</th>\n",
       "      <th>language</th>\n",
       "    </tr>\n",
       "  </thead>\n",
       "  <tbody>\n",
       "    <tr>\n",
       "      <th>0</th>\n",
       "      <td>Killa Cam</td>\n",
       "      <td>rap</td>\n",
       "      <td>Cam'ron</td>\n",
       "      <td>2004</td>\n",
       "      <td>173166</td>\n",
       "      <td>{\"Cam\\\\'ron\",\"Opera Steve\"}</td>\n",
       "      <td>[Chorus: Opera Steve &amp; Cam'ron]\\nKilla Cam, Ki...</td>\n",
       "      <td>1</td>\n",
       "      <td>en</td>\n",
       "      <td>en</td>\n",
       "      <td>en</td>\n",
       "    </tr>\n",
       "    <tr>\n",
       "      <th>1</th>\n",
       "      <td>Can I Live</td>\n",
       "      <td>rap</td>\n",
       "      <td>JAY-Z</td>\n",
       "      <td>1996</td>\n",
       "      <td>468624</td>\n",
       "      <td>{}</td>\n",
       "      <td>[Produced by Irv Gotti]\\n\\n[Intro]\\nYeah, hah,...</td>\n",
       "      <td>3</td>\n",
       "      <td>en</td>\n",
       "      <td>en</td>\n",
       "      <td>en</td>\n",
       "    </tr>\n",
       "    <tr>\n",
       "      <th>2</th>\n",
       "      <td>Forgive Me Father</td>\n",
       "      <td>rap</td>\n",
       "      <td>Fabolous</td>\n",
       "      <td>2003</td>\n",
       "      <td>4743</td>\n",
       "      <td>{}</td>\n",
       "      <td>Maybe cause I'm eatin\\nAnd these bastards fien...</td>\n",
       "      <td>4</td>\n",
       "      <td>en</td>\n",
       "      <td>en</td>\n",
       "      <td>en</td>\n",
       "    </tr>\n",
       "    <tr>\n",
       "      <th>3</th>\n",
       "      <td>Down and Out</td>\n",
       "      <td>rap</td>\n",
       "      <td>Cam'ron</td>\n",
       "      <td>2004</td>\n",
       "      <td>144404</td>\n",
       "      <td>{\"Cam\\\\'ron\",\"Kanye West\",\"Syleena Johnson\"}</td>\n",
       "      <td>[Produced by Kanye West and Brian Miller]\\n\\n[...</td>\n",
       "      <td>5</td>\n",
       "      <td>en</td>\n",
       "      <td>en</td>\n",
       "      <td>en</td>\n",
       "    </tr>\n",
       "    <tr>\n",
       "      <th>4</th>\n",
       "      <td>Fly In</td>\n",
       "      <td>rap</td>\n",
       "      <td>Lil Wayne</td>\n",
       "      <td>2005</td>\n",
       "      <td>78271</td>\n",
       "      <td>{}</td>\n",
       "      <td>[Intro]\\nSo they ask me\\n\"Young boy\\nWhat you ...</td>\n",
       "      <td>6</td>\n",
       "      <td>en</td>\n",
       "      <td>en</td>\n",
       "      <td>en</td>\n",
       "    </tr>\n",
       "  </tbody>\n",
       "</table>\n",
       "</div>"
      ]
     },
     "execution_count": 3,
     "metadata": {},
     "output_type": "execute_result"
    }
   ],
   "execution_count": 3
  },
  {
   "metadata": {
    "ExecuteTime": {
     "end_time": "2024-12-30T10:41:45.531835Z",
     "start_time": "2024-12-30T10:41:44.933601Z"
    }
   },
   "cell_type": "code",
   "source": [
    "# Filter rows where the language is 'en'\n",
    "df['language'].unique()\n",
    "df = df[df['language'] == 'en']\n",
    "df['language'].unique()\n",
    "\n",
    "# checking\n",
    "print(df.shape)\n",
    "df.head()"
   ],
   "id": "a3fe13f40d751c85",
   "outputs": [
    {
     "name": "stdout",
     "output_type": "stream",
     "text": [
      "(3374198, 11)\n"
     ]
    },
    {
     "data": {
      "text/plain": [
       "               title  tag     artist  year   views  \\\n",
       "0          Killa Cam  rap    Cam'ron  2004  173166   \n",
       "1         Can I Live  rap      JAY-Z  1996  468624   \n",
       "2  Forgive Me Father  rap   Fabolous  2003    4743   \n",
       "3       Down and Out  rap    Cam'ron  2004  144404   \n",
       "4             Fly In  rap  Lil Wayne  2005   78271   \n",
       "\n",
       "                                       features  \\\n",
       "0                   {\"Cam\\\\'ron\",\"Opera Steve\"}   \n",
       "1                                            {}   \n",
       "2                                            {}   \n",
       "3  {\"Cam\\\\'ron\",\"Kanye West\",\"Syleena Johnson\"}   \n",
       "4                                            {}   \n",
       "\n",
       "                                              lyrics  id language_cld3  \\\n",
       "0  [Chorus: Opera Steve & Cam'ron]\\nKilla Cam, Ki...   1            en   \n",
       "1  [Produced by Irv Gotti]\\n\\n[Intro]\\nYeah, hah,...   3            en   \n",
       "2  Maybe cause I'm eatin\\nAnd these bastards fien...   4            en   \n",
       "3  [Produced by Kanye West and Brian Miller]\\n\\n[...   5            en   \n",
       "4  [Intro]\\nSo they ask me\\n\"Young boy\\nWhat you ...   6            en   \n",
       "\n",
       "  language_ft language  \n",
       "0          en       en  \n",
       "1          en       en  \n",
       "2          en       en  \n",
       "3          en       en  \n",
       "4          en       en  "
      ],
      "text/html": [
       "<div>\n",
       "<style scoped>\n",
       "    .dataframe tbody tr th:only-of-type {\n",
       "        vertical-align: middle;\n",
       "    }\n",
       "\n",
       "    .dataframe tbody tr th {\n",
       "        vertical-align: top;\n",
       "    }\n",
       "\n",
       "    .dataframe thead th {\n",
       "        text-align: right;\n",
       "    }\n",
       "</style>\n",
       "<table border=\"1\" class=\"dataframe\">\n",
       "  <thead>\n",
       "    <tr style=\"text-align: right;\">\n",
       "      <th></th>\n",
       "      <th>title</th>\n",
       "      <th>tag</th>\n",
       "      <th>artist</th>\n",
       "      <th>year</th>\n",
       "      <th>views</th>\n",
       "      <th>features</th>\n",
       "      <th>lyrics</th>\n",
       "      <th>id</th>\n",
       "      <th>language_cld3</th>\n",
       "      <th>language_ft</th>\n",
       "      <th>language</th>\n",
       "    </tr>\n",
       "  </thead>\n",
       "  <tbody>\n",
       "    <tr>\n",
       "      <th>0</th>\n",
       "      <td>Killa Cam</td>\n",
       "      <td>rap</td>\n",
       "      <td>Cam'ron</td>\n",
       "      <td>2004</td>\n",
       "      <td>173166</td>\n",
       "      <td>{\"Cam\\\\'ron\",\"Opera Steve\"}</td>\n",
       "      <td>[Chorus: Opera Steve &amp; Cam'ron]\\nKilla Cam, Ki...</td>\n",
       "      <td>1</td>\n",
       "      <td>en</td>\n",
       "      <td>en</td>\n",
       "      <td>en</td>\n",
       "    </tr>\n",
       "    <tr>\n",
       "      <th>1</th>\n",
       "      <td>Can I Live</td>\n",
       "      <td>rap</td>\n",
       "      <td>JAY-Z</td>\n",
       "      <td>1996</td>\n",
       "      <td>468624</td>\n",
       "      <td>{}</td>\n",
       "      <td>[Produced by Irv Gotti]\\n\\n[Intro]\\nYeah, hah,...</td>\n",
       "      <td>3</td>\n",
       "      <td>en</td>\n",
       "      <td>en</td>\n",
       "      <td>en</td>\n",
       "    </tr>\n",
       "    <tr>\n",
       "      <th>2</th>\n",
       "      <td>Forgive Me Father</td>\n",
       "      <td>rap</td>\n",
       "      <td>Fabolous</td>\n",
       "      <td>2003</td>\n",
       "      <td>4743</td>\n",
       "      <td>{}</td>\n",
       "      <td>Maybe cause I'm eatin\\nAnd these bastards fien...</td>\n",
       "      <td>4</td>\n",
       "      <td>en</td>\n",
       "      <td>en</td>\n",
       "      <td>en</td>\n",
       "    </tr>\n",
       "    <tr>\n",
       "      <th>3</th>\n",
       "      <td>Down and Out</td>\n",
       "      <td>rap</td>\n",
       "      <td>Cam'ron</td>\n",
       "      <td>2004</td>\n",
       "      <td>144404</td>\n",
       "      <td>{\"Cam\\\\'ron\",\"Kanye West\",\"Syleena Johnson\"}</td>\n",
       "      <td>[Produced by Kanye West and Brian Miller]\\n\\n[...</td>\n",
       "      <td>5</td>\n",
       "      <td>en</td>\n",
       "      <td>en</td>\n",
       "      <td>en</td>\n",
       "    </tr>\n",
       "    <tr>\n",
       "      <th>4</th>\n",
       "      <td>Fly In</td>\n",
       "      <td>rap</td>\n",
       "      <td>Lil Wayne</td>\n",
       "      <td>2005</td>\n",
       "      <td>78271</td>\n",
       "      <td>{}</td>\n",
       "      <td>[Intro]\\nSo they ask me\\n\"Young boy\\nWhat you ...</td>\n",
       "      <td>6</td>\n",
       "      <td>en</td>\n",
       "      <td>en</td>\n",
       "      <td>en</td>\n",
       "    </tr>\n",
       "  </tbody>\n",
       "</table>\n",
       "</div>"
      ]
     },
     "execution_count": 4,
     "metadata": {},
     "output_type": "execute_result"
    }
   ],
   "execution_count": 4
  },
  {
   "metadata": {
    "ExecuteTime": {
     "end_time": "2024-12-30T10:41:46.471520Z",
     "start_time": "2024-12-30T10:41:45.913199Z"
    }
   },
   "cell_type": "code",
   "source": [
    "# Filter rows with misc (undefined) tags\n",
    "df['tag'].unique()\n",
    "df = df[df['tag'] != 'misc']\n",
    "df['tag'].unique()\n",
    "\n",
    "# checking\n",
    "print(df.shape)\n",
    "df.head()"
   ],
   "id": "dc0430a40249426a",
   "outputs": [
    {
     "name": "stdout",
     "output_type": "stream",
     "text": [
      "(3233212, 11)\n"
     ]
    },
    {
     "data": {
      "text/plain": [
       "               title  tag     artist  year   views  \\\n",
       "0          Killa Cam  rap    Cam'ron  2004  173166   \n",
       "1         Can I Live  rap      JAY-Z  1996  468624   \n",
       "2  Forgive Me Father  rap   Fabolous  2003    4743   \n",
       "3       Down and Out  rap    Cam'ron  2004  144404   \n",
       "4             Fly In  rap  Lil Wayne  2005   78271   \n",
       "\n",
       "                                       features  \\\n",
       "0                   {\"Cam\\\\'ron\",\"Opera Steve\"}   \n",
       "1                                            {}   \n",
       "2                                            {}   \n",
       "3  {\"Cam\\\\'ron\",\"Kanye West\",\"Syleena Johnson\"}   \n",
       "4                                            {}   \n",
       "\n",
       "                                              lyrics  id language_cld3  \\\n",
       "0  [Chorus: Opera Steve & Cam'ron]\\nKilla Cam, Ki...   1            en   \n",
       "1  [Produced by Irv Gotti]\\n\\n[Intro]\\nYeah, hah,...   3            en   \n",
       "2  Maybe cause I'm eatin\\nAnd these bastards fien...   4            en   \n",
       "3  [Produced by Kanye West and Brian Miller]\\n\\n[...   5            en   \n",
       "4  [Intro]\\nSo they ask me\\n\"Young boy\\nWhat you ...   6            en   \n",
       "\n",
       "  language_ft language  \n",
       "0          en       en  \n",
       "1          en       en  \n",
       "2          en       en  \n",
       "3          en       en  \n",
       "4          en       en  "
      ],
      "text/html": [
       "<div>\n",
       "<style scoped>\n",
       "    .dataframe tbody tr th:only-of-type {\n",
       "        vertical-align: middle;\n",
       "    }\n",
       "\n",
       "    .dataframe tbody tr th {\n",
       "        vertical-align: top;\n",
       "    }\n",
       "\n",
       "    .dataframe thead th {\n",
       "        text-align: right;\n",
       "    }\n",
       "</style>\n",
       "<table border=\"1\" class=\"dataframe\">\n",
       "  <thead>\n",
       "    <tr style=\"text-align: right;\">\n",
       "      <th></th>\n",
       "      <th>title</th>\n",
       "      <th>tag</th>\n",
       "      <th>artist</th>\n",
       "      <th>year</th>\n",
       "      <th>views</th>\n",
       "      <th>features</th>\n",
       "      <th>lyrics</th>\n",
       "      <th>id</th>\n",
       "      <th>language_cld3</th>\n",
       "      <th>language_ft</th>\n",
       "      <th>language</th>\n",
       "    </tr>\n",
       "  </thead>\n",
       "  <tbody>\n",
       "    <tr>\n",
       "      <th>0</th>\n",
       "      <td>Killa Cam</td>\n",
       "      <td>rap</td>\n",
       "      <td>Cam'ron</td>\n",
       "      <td>2004</td>\n",
       "      <td>173166</td>\n",
       "      <td>{\"Cam\\\\'ron\",\"Opera Steve\"}</td>\n",
       "      <td>[Chorus: Opera Steve &amp; Cam'ron]\\nKilla Cam, Ki...</td>\n",
       "      <td>1</td>\n",
       "      <td>en</td>\n",
       "      <td>en</td>\n",
       "      <td>en</td>\n",
       "    </tr>\n",
       "    <tr>\n",
       "      <th>1</th>\n",
       "      <td>Can I Live</td>\n",
       "      <td>rap</td>\n",
       "      <td>JAY-Z</td>\n",
       "      <td>1996</td>\n",
       "      <td>468624</td>\n",
       "      <td>{}</td>\n",
       "      <td>[Produced by Irv Gotti]\\n\\n[Intro]\\nYeah, hah,...</td>\n",
       "      <td>3</td>\n",
       "      <td>en</td>\n",
       "      <td>en</td>\n",
       "      <td>en</td>\n",
       "    </tr>\n",
       "    <tr>\n",
       "      <th>2</th>\n",
       "      <td>Forgive Me Father</td>\n",
       "      <td>rap</td>\n",
       "      <td>Fabolous</td>\n",
       "      <td>2003</td>\n",
       "      <td>4743</td>\n",
       "      <td>{}</td>\n",
       "      <td>Maybe cause I'm eatin\\nAnd these bastards fien...</td>\n",
       "      <td>4</td>\n",
       "      <td>en</td>\n",
       "      <td>en</td>\n",
       "      <td>en</td>\n",
       "    </tr>\n",
       "    <tr>\n",
       "      <th>3</th>\n",
       "      <td>Down and Out</td>\n",
       "      <td>rap</td>\n",
       "      <td>Cam'ron</td>\n",
       "      <td>2004</td>\n",
       "      <td>144404</td>\n",
       "      <td>{\"Cam\\\\'ron\",\"Kanye West\",\"Syleena Johnson\"}</td>\n",
       "      <td>[Produced by Kanye West and Brian Miller]\\n\\n[...</td>\n",
       "      <td>5</td>\n",
       "      <td>en</td>\n",
       "      <td>en</td>\n",
       "      <td>en</td>\n",
       "    </tr>\n",
       "    <tr>\n",
       "      <th>4</th>\n",
       "      <td>Fly In</td>\n",
       "      <td>rap</td>\n",
       "      <td>Lil Wayne</td>\n",
       "      <td>2005</td>\n",
       "      <td>78271</td>\n",
       "      <td>{}</td>\n",
       "      <td>[Intro]\\nSo they ask me\\n\"Young boy\\nWhat you ...</td>\n",
       "      <td>6</td>\n",
       "      <td>en</td>\n",
       "      <td>en</td>\n",
       "      <td>en</td>\n",
       "    </tr>\n",
       "  </tbody>\n",
       "</table>\n",
       "</div>"
      ]
     },
     "execution_count": 5,
     "metadata": {},
     "output_type": "execute_result"
    }
   ],
   "execution_count": 5
  },
  {
   "metadata": {
    "ExecuteTime": {
     "end_time": "2024-12-30T10:41:47.059943Z",
     "start_time": "2024-12-30T10:41:46.501154Z"
    }
   },
   "cell_type": "code",
   "source": [
    "# Keep only necessary columns: 'lyrics' and 'tag'\n",
    "df = df[['lyrics', 'tag']]\n",
    "\n",
    "# checking\n",
    "print(df.shape)\n",
    "print(df.isnull().sum())\n",
    "df.head()"
   ],
   "id": "80cf3203fff70fbe",
   "outputs": [
    {
     "name": "stdout",
     "output_type": "stream",
     "text": [
      "(3233212, 2)\n",
      "lyrics    0\n",
      "tag       0\n",
      "dtype: int64\n"
     ]
    },
    {
     "data": {
      "text/plain": [
       "                                              lyrics  tag\n",
       "0  [Chorus: Opera Steve & Cam'ron]\\nKilla Cam, Ki...  rap\n",
       "1  [Produced by Irv Gotti]\\n\\n[Intro]\\nYeah, hah,...  rap\n",
       "2  Maybe cause I'm eatin\\nAnd these bastards fien...  rap\n",
       "3  [Produced by Kanye West and Brian Miller]\\n\\n[...  rap\n",
       "4  [Intro]\\nSo they ask me\\n\"Young boy\\nWhat you ...  rap"
      ],
      "text/html": [
       "<div>\n",
       "<style scoped>\n",
       "    .dataframe tbody tr th:only-of-type {\n",
       "        vertical-align: middle;\n",
       "    }\n",
       "\n",
       "    .dataframe tbody tr th {\n",
       "        vertical-align: top;\n",
       "    }\n",
       "\n",
       "    .dataframe thead th {\n",
       "        text-align: right;\n",
       "    }\n",
       "</style>\n",
       "<table border=\"1\" class=\"dataframe\">\n",
       "  <thead>\n",
       "    <tr style=\"text-align: right;\">\n",
       "      <th></th>\n",
       "      <th>lyrics</th>\n",
       "      <th>tag</th>\n",
       "    </tr>\n",
       "  </thead>\n",
       "  <tbody>\n",
       "    <tr>\n",
       "      <th>0</th>\n",
       "      <td>[Chorus: Opera Steve &amp; Cam'ron]\\nKilla Cam, Ki...</td>\n",
       "      <td>rap</td>\n",
       "    </tr>\n",
       "    <tr>\n",
       "      <th>1</th>\n",
       "      <td>[Produced by Irv Gotti]\\n\\n[Intro]\\nYeah, hah,...</td>\n",
       "      <td>rap</td>\n",
       "    </tr>\n",
       "    <tr>\n",
       "      <th>2</th>\n",
       "      <td>Maybe cause I'm eatin\\nAnd these bastards fien...</td>\n",
       "      <td>rap</td>\n",
       "    </tr>\n",
       "    <tr>\n",
       "      <th>3</th>\n",
       "      <td>[Produced by Kanye West and Brian Miller]\\n\\n[...</td>\n",
       "      <td>rap</td>\n",
       "    </tr>\n",
       "    <tr>\n",
       "      <th>4</th>\n",
       "      <td>[Intro]\\nSo they ask me\\n\"Young boy\\nWhat you ...</td>\n",
       "      <td>rap</td>\n",
       "    </tr>\n",
       "  </tbody>\n",
       "</table>\n",
       "</div>"
      ]
     },
     "execution_count": 6,
     "metadata": {},
     "output_type": "execute_result"
    }
   ],
   "execution_count": 6
  },
  {
   "metadata": {
    "ExecuteTime": {
     "end_time": "2024-12-30T10:41:47.184402Z",
     "start_time": "2024-12-30T10:41:47.080153Z"
    }
   },
   "cell_type": "code",
   "source": [
    "# Checking percentage of each unique value in the tags\n",
    "print(df.shape)\n",
    "print(df['tag'].value_counts(normalize=True) * 100)"
   ],
   "id": "a97dce72d8b6d9ee",
   "outputs": [
    {
     "name": "stdout",
     "output_type": "stream",
     "text": [
      "(3233212, 2)\n",
      "tag\n",
      "pop        43.101380\n",
      "rap        29.834264\n",
      "rock       19.587580\n",
      "rb          4.796531\n",
      "country     2.680245\n",
      "Name: proportion, dtype: float64\n"
     ]
    }
   ],
   "execution_count": 7
  },
  {
   "metadata": {},
   "cell_type": "markdown",
   "source": "Reducing dataset's size, for ease of processing",
   "id": "9e68eb8d711211c"
  },
  {
   "metadata": {
    "ExecuteTime": {
     "end_time": "2024-12-30T10:41:49.536875Z",
     "start_time": "2024-12-30T10:41:47.267805Z"
    }
   },
   "cell_type": "code",
   "source": [
    "# Reducing option 1:\n",
    "# Stratified sampling to reduce the dataset to 300k examples (reducing the data while preserving the same genre distribution)\n",
    "df_reduced, _ = train_test_split(df, train_size=300000, stratify=df['tag'], random_state=77)\n"
   ],
   "id": "ebb75ee9c3b9f445",
   "outputs": [],
   "execution_count": 8
  },
  {
   "metadata": {},
   "cell_type": "code",
   "source": [
    "# Reducing option 2:\n",
    "# (the first option performs better)\n",
    "# Downsample dataset to balance classes\n",
    "def downsample_dataset(df, target_size):\n",
    "    \"\"\"\n",
    "    Downsample the dataset to balance classes and reduce size.\n",
    "\n",
    "    Args:\n",
    "        df (DataFrame): Original dataset.\n",
    "        target_size (int): Desired total size of the dataset.\n",
    "\n",
    "    Returns:\n",
    "        DataFrame: Reduced and balanced dataset.\n",
    "    \"\"\"\n",
    "    # Determine target size per class\n",
    "    num_classes = df['tag'].nunique()\n",
    "    target_per_class = target_size // num_classes\n",
    "\n",
    "    # Downsample each class\n",
    "    df_balanced = df.groupby('tag').apply(lambda x: x.sample(n=min(len(x), target_per_class), random_state=42)).reset_index(drop=True)\n",
    "    return df_balanced\n",
    "\n",
    "# Reduce dataset size\n",
    "reduced_size = 200000  # Specify desired dataset size\n",
    "df_reduced = downsample_dataset(df, reduced_size)\n"
   ],
   "id": "410d20a0f9bcbd87",
   "outputs": [],
   "execution_count": null
  },
  {
   "metadata": {
    "ExecuteTime": {
     "end_time": "2024-12-30T10:41:49.592698Z",
     "start_time": "2024-12-30T10:41:49.577256Z"
    }
   },
   "cell_type": "code",
   "source": [
    "# checking data after reducing\n",
    "print(df_reduced.shape)\n",
    "print(df_reduced['tag'].value_counts(normalize=True) * 100)\n",
    "df_reduced.head()"
   ],
   "id": "12b36c3a530374f0",
   "outputs": [
    {
     "name": "stdout",
     "output_type": "stream",
     "text": [
      "(300000, 2)\n",
      "tag\n",
      "pop        43.101333\n",
      "rap        29.834333\n",
      "rock       19.587667\n",
      "rb          4.796333\n",
      "country     2.680333\n",
      "Name: proportion, dtype: float64\n"
     ]
    },
    {
     "data": {
      "text/plain": [
       "                                                    lyrics   tag\n",
       "2379187  The fog of confusion is melting away\\nWith a c...  rock\n",
       "2884289  [Intro]\\n\\nDexter, they going out sad\\n\\n[Pre-...   rap\n",
       "4602322  [Verse]\\nI've been rhyming every day (I have)\\...   rap\n",
       "2091379  [Verse 1]\\nBroken, bruised and burned\\nBut the...   pop\n",
       "4767180  Come take this badge off of me\\nI can't wear i...  rock"
      ],
      "text/html": [
       "<div>\n",
       "<style scoped>\n",
       "    .dataframe tbody tr th:only-of-type {\n",
       "        vertical-align: middle;\n",
       "    }\n",
       "\n",
       "    .dataframe tbody tr th {\n",
       "        vertical-align: top;\n",
       "    }\n",
       "\n",
       "    .dataframe thead th {\n",
       "        text-align: right;\n",
       "    }\n",
       "</style>\n",
       "<table border=\"1\" class=\"dataframe\">\n",
       "  <thead>\n",
       "    <tr style=\"text-align: right;\">\n",
       "      <th></th>\n",
       "      <th>lyrics</th>\n",
       "      <th>tag</th>\n",
       "    </tr>\n",
       "  </thead>\n",
       "  <tbody>\n",
       "    <tr>\n",
       "      <th>2379187</th>\n",
       "      <td>The fog of confusion is melting away\\nWith a c...</td>\n",
       "      <td>rock</td>\n",
       "    </tr>\n",
       "    <tr>\n",
       "      <th>2884289</th>\n",
       "      <td>[Intro]\\n\\nDexter, they going out sad\\n\\n[Pre-...</td>\n",
       "      <td>rap</td>\n",
       "    </tr>\n",
       "    <tr>\n",
       "      <th>4602322</th>\n",
       "      <td>[Verse]\\nI've been rhyming every day (I have)\\...</td>\n",
       "      <td>rap</td>\n",
       "    </tr>\n",
       "    <tr>\n",
       "      <th>2091379</th>\n",
       "      <td>[Verse 1]\\nBroken, bruised and burned\\nBut the...</td>\n",
       "      <td>pop</td>\n",
       "    </tr>\n",
       "    <tr>\n",
       "      <th>4767180</th>\n",
       "      <td>Come take this badge off of me\\nI can't wear i...</td>\n",
       "      <td>rock</td>\n",
       "    </tr>\n",
       "  </tbody>\n",
       "</table>\n",
       "</div>"
      ]
     },
     "execution_count": 9,
     "metadata": {},
     "output_type": "execute_result"
    }
   ],
   "execution_count": 9
  },
  {
   "metadata": {
    "ExecuteTime": {
     "end_time": "2024-12-30T10:41:49.670582Z",
     "start_time": "2024-12-30T10:41:49.665270Z"
    }
   },
   "cell_type": "code",
   "source": [
    "# Load custom stopwords from stopwords.txt\n",
    "def load_custom_stopwords(filepath):\n",
    "    with open(filepath, 'r') as file:\n",
    "        stopwords_set = set(line.strip().lower() for line in file)\n",
    "    return stopwords_set\n",
    "\n",
    "# Path to stopwords.txt\n",
    "stopwords_path = 'data/stopwords/english'\n",
    "custom_stopwords = load_custom_stopwords(stopwords_path)\n",
    "\n",
    "# checking\n",
    "print(len(custom_stopwords))"
   ],
   "id": "9afbb0d7ce62598a",
   "outputs": [
    {
     "name": "stdout",
     "output_type": "stream",
     "text": [
      "214\n"
     ]
    }
   ],
   "execution_count": 10
  },
  {
   "metadata": {
    "ExecuteTime": {
     "end_time": "2024-12-30T10:41:49.729643Z",
     "start_time": "2024-12-30T10:41:49.725107Z"
    }
   },
   "cell_type": "code",
   "source": [
    "# Data cleaning function\n",
    "def normalize(text):\n",
    "    text = text.lower()\n",
    "    # remove singing noises\n",
    "    text = re.sub(r'\\bm+\\b', ' ', text)\n",
    "    text = re.sub(r'\\bo+h+\\b', ' ', text)\n",
    "    text = re.sub(r'\\ba+h+\\b', ' ', text)\n",
    "    text = re.sub(r'\\bh+m+\\b', ' ', text)\n",
    "    text = re.sub(r'\\by+o+\\b', ' ', text)\n",
    "    text = re.sub(r'\\bo+y+\\b', ' ', text)\n",
    "    text = re.sub(r'\\bg+o+\\b', ' ', text)\n",
    "    text = re.sub(r'\\bu+m+\\b', ' ', text)\n",
    "\n",
    "    # normalize unnecessary repeated characters\n",
    "    text = re.sub(r'\\bo+n+\\b', ' on ', text)\n",
    "    text = re.sub(r'\\bn+o+\\b', ' no ', text)\n",
    "    text = re.sub(r'\\bn+o+w+\\b', ' now ', text)\n",
    "    text = re.sub(r'\\by+o+u+\\b', ' you ', text)\n",
    "    text = re.sub(r'\\by+e+a+h+\\b', ' yeah ', text)\n",
    "    text = re.sub(r'\\bb+a+b+y+\\b', ' baby ', text)\n",
    "    text = re.sub(r'\\bw+a+n+t+\\b', ' want ', text)\n",
    "    text = re.sub(r'\\bt+r+u+s+t+\\b', ' trust ', text)\n",
    "\n",
    "    # correct some misspelled words\n",
    "    text = re.sub(r'\\bl+u+v+\\b', ' love ', text)\n",
    "    text = re.sub(r'\\bl+o+v+\\b', ' love ', text)\n",
    "\n",
    "    return text\n",
    "\n",
    "def clean_text(text):\n",
    "    text = re.sub(r'\\[.*?\\]', ' ', text)  # Removes text between brackets\n",
    "    text = re.sub(r'[^a-zA-Z\\s]', ' ', text)  # Removes everything except letters and spaces\n",
    "\n",
    "    # Remove stopwords\n",
    "    words = text.strip().split()\n",
    "    stop_words = set(word.lower() for word in custom_stopwords)\n",
    "    filtered_words = [word for word in words if word not in stop_words]\n",
    "\n",
    "     # Remove words of length 1 or 2\n",
    "    filtered_words = [word for word in filtered_words if len(word) > 2]\n",
    "\n",
    "    # Lemmatize words\n",
    "    lemmatizer = nltk.stem.WordNetLemmatizer()\n",
    "    lemmatized_words = [lemmatizer.lemmatize(word) for word in filtered_words]\n",
    "\n",
    "    return ' '.join(lemmatized_words) # Join the filtered words back into a single string\n"
   ],
   "id": "ee9705efdfaa539b",
   "outputs": [],
   "execution_count": 11
  },
  {
   "metadata": {
    "ExecuteTime": {
     "end_time": "2024-12-30T10:45:24.082805Z",
     "start_time": "2024-12-30T10:41:49.776329Z"
    }
   },
   "cell_type": "code",
   "source": [
    "# apply cleaning function to our data\n",
    "df_reduced['lyrics'] = df_reduced['lyrics'].apply(normalize)\n",
    "print('done normalizing')\n",
    "print(df_reduced.head())\n",
    "\n",
    "df_reduced['lyrics'] = df_reduced['lyrics'].apply(clean_text)\n",
    "print('done cleaning')\n",
    "print(df_reduced.head())"
   ],
   "id": "390b2b553dee5872",
   "outputs": [
    {
     "name": "stdout",
     "output_type": "stream",
     "text": [
      "done normalizing\n",
      "                                                    lyrics   tag\n",
      "2379187  the fog of confusion is melting away\\nwith a c...  rock\n",
      "2884289  [intro]\\n\\ndexter, they going out sad\\n\\n[pre-...   rap\n",
      "4602322  [verse]\\ni've been rhyming every day (i have)\\...   rap\n",
      "2091379  [verse 1]\\nbroken, bruised and burned\\nbut the...   pop\n",
      "4767180  come take this badge off of me\\ni can't wear i...  rock\n",
      "done cleaning\n",
      "                                                    lyrics   tag\n",
      "2379187  fog confusion melting away clear mind life fre...  rock\n",
      "2884289  dexter going sad tell realest tell great seein...   rap\n",
      "4602322  rhyming every day majesty glad see strategy fa...   rap\n",
      "2091379  broken bruised burned lesson never learned twi...   pop\n",
      "4767180  come take badge wear getting dark see feel lik...  rock\n"
     ]
    }
   ],
   "execution_count": 12
  },
  {
   "metadata": {
    "ExecuteTime": {
     "end_time": "2024-12-30T10:45:24.939458Z",
     "start_time": "2024-12-30T10:45:24.099588Z"
    }
   },
   "cell_type": "code",
   "source": [
    "# Save the DataFrame in binary format, after normalizing & cleaning\n",
    "df_reduced.to_parquet('data/cleaned_songs_dataset.parquet', index=False)"
   ],
   "id": "271a7ae5b361e3f8",
   "outputs": [],
   "execution_count": 13
  },
  {
   "metadata": {
    "ExecuteTime": {
     "end_time": "2024-12-30T10:45:24.946985Z",
     "start_time": "2024-12-30T10:45:24.942969Z"
    }
   },
   "cell_type": "code",
   "source": [
    "# testing cleaning function\n",
    "test_text = \"mmmmMm MMmmm Ohhh no! I can't believe it ... Baby, you're amazing! 😍😍 123 yeaaaah YYeeah babies\\nlove\"\n",
    "# test_text = \"babe baby babies\"\n",
    "# test_text = df['lyrics'][90]\n",
    "\n",
    "\n",
    "test_text_normalized = normalize(test_text)\n",
    "print(f'normalized text:\\n{test_text_normalized}')\n",
    "\n",
    "test_text_normalized_cleaned = clean_text(test_text_normalized)\n",
    "print(f'cleaned text:\\n{test_text_normalized_cleaned}')"
   ],
   "id": "17fb2d5e5d0ded3b",
   "outputs": [
    {
     "name": "stdout",
     "output_type": "stream",
     "text": [
      "normalized text:\n",
      "       no ! i can't believe it ...  baby ,  you 're amazing! 😍😍 123  yeah   yeah  babies\n",
      "love\n",
      "cleaned text:\n",
      "believe baby amazing yeah yeah baby love\n"
     ]
    }
   ],
   "execution_count": 14
  },
  {
   "metadata": {
    "ExecuteTime": {
     "end_time": "2024-12-30T10:45:28.101578Z",
     "start_time": "2024-12-30T10:45:24.953504Z"
    }
   },
   "cell_type": "code",
   "source": [
    "# Tokenization: split lyrics into lists of words\n",
    "def tokenize_text(text):\n",
    "    tokens = text.split()\n",
    "    return tokens\n",
    "\n",
    "df_reduced['tokens'] = df_reduced['lyrics'].apply(tokenize_text)  # Tokenize cleaned lyrics\n",
    "print(df_reduced.shape)\n",
    "df_reduced.head()"
   ],
   "id": "f8ded8babe28a132",
   "outputs": [
    {
     "name": "stdout",
     "output_type": "stream",
     "text": [
      "(300000, 3)\n"
     ]
    },
    {
     "data": {
      "text/plain": [
       "                                                    lyrics   tag  \\\n",
       "2379187  fog confusion melting away clear mind life fre...  rock   \n",
       "2884289  dexter going sad tell realest tell great seein...   rap   \n",
       "4602322  rhyming every day majesty glad see strategy fa...   rap   \n",
       "2091379  broken bruised burned lesson never learned twi...   pop   \n",
       "4767180  come take badge wear getting dark see feel lik...  rock   \n",
       "\n",
       "                                                    tokens  \n",
       "2379187  [fog, confusion, melting, away, clear, mind, l...  \n",
       "2884289  [dexter, going, sad, tell, realest, tell, grea...  \n",
       "4602322  [rhyming, every, day, majesty, glad, see, stra...  \n",
       "2091379  [broken, bruised, burned, lesson, never, learn...  \n",
       "4767180  [come, take, badge, wear, getting, dark, see, ...  "
      ],
      "text/html": [
       "<div>\n",
       "<style scoped>\n",
       "    .dataframe tbody tr th:only-of-type {\n",
       "        vertical-align: middle;\n",
       "    }\n",
       "\n",
       "    .dataframe tbody tr th {\n",
       "        vertical-align: top;\n",
       "    }\n",
       "\n",
       "    .dataframe thead th {\n",
       "        text-align: right;\n",
       "    }\n",
       "</style>\n",
       "<table border=\"1\" class=\"dataframe\">\n",
       "  <thead>\n",
       "    <tr style=\"text-align: right;\">\n",
       "      <th></th>\n",
       "      <th>lyrics</th>\n",
       "      <th>tag</th>\n",
       "      <th>tokens</th>\n",
       "    </tr>\n",
       "  </thead>\n",
       "  <tbody>\n",
       "    <tr>\n",
       "      <th>2379187</th>\n",
       "      <td>fog confusion melting away clear mind life fre...</td>\n",
       "      <td>rock</td>\n",
       "      <td>[fog, confusion, melting, away, clear, mind, l...</td>\n",
       "    </tr>\n",
       "    <tr>\n",
       "      <th>2884289</th>\n",
       "      <td>dexter going sad tell realest tell great seein...</td>\n",
       "      <td>rap</td>\n",
       "      <td>[dexter, going, sad, tell, realest, tell, grea...</td>\n",
       "    </tr>\n",
       "    <tr>\n",
       "      <th>4602322</th>\n",
       "      <td>rhyming every day majesty glad see strategy fa...</td>\n",
       "      <td>rap</td>\n",
       "      <td>[rhyming, every, day, majesty, glad, see, stra...</td>\n",
       "    </tr>\n",
       "    <tr>\n",
       "      <th>2091379</th>\n",
       "      <td>broken bruised burned lesson never learned twi...</td>\n",
       "      <td>pop</td>\n",
       "      <td>[broken, bruised, burned, lesson, never, learn...</td>\n",
       "    </tr>\n",
       "    <tr>\n",
       "      <th>4767180</th>\n",
       "      <td>come take badge wear getting dark see feel lik...</td>\n",
       "      <td>rock</td>\n",
       "      <td>[come, take, badge, wear, getting, dark, see, ...</td>\n",
       "    </tr>\n",
       "  </tbody>\n",
       "</table>\n",
       "</div>"
      ]
     },
     "execution_count": 15,
     "metadata": {},
     "output_type": "execute_result"
    }
   ],
   "execution_count": 15
  },
  {
   "metadata": {},
   "cell_type": "markdown",
   "source": "## Features",
   "id": "614b32db886efccc"
  },
  {
   "metadata": {
    "ExecuteTime": {
     "end_time": "2024-12-30T10:45:34.902407Z",
     "start_time": "2024-12-30T10:45:28.132302Z"
    }
   },
   "cell_type": "code",
   "source": [
    "# handcrafted features\n",
    "def count_baby_occurrences(text):\n",
    "    return text.split().count('baby')\n",
    "\n",
    "def average_word_length(text):\n",
    "    words = text.split()\n",
    "    return np.mean([len(word) for word in words]) if words else 0\n",
    "\n",
    "def count_words(text):\n",
    "    return len(text.split())\n",
    "\n",
    "\n",
    "# applying handcrafted features\n",
    "df_reduced['baby_count'] = df_reduced['lyrics'].apply(count_baby_occurrences)  # Count occurrences of 'baby'\n",
    "df_reduced['avg_word_length'] = df_reduced['lyrics'].apply(average_word_length)  # Calculate average word length\n",
    "df_reduced['word_count'] = df_reduced['lyrics'].apply(count_words)  # Count the total number of words\n",
    "\n",
    "# checking\n",
    "print(df_reduced.shape)\n",
    "df_reduced.head()"
   ],
   "id": "8f2cccb49bb6e422",
   "outputs": [
    {
     "name": "stdout",
     "output_type": "stream",
     "text": [
      "(300000, 6)\n"
     ]
    },
    {
     "data": {
      "text/plain": [
       "                                                    lyrics   tag  \\\n",
       "2379187  fog confusion melting away clear mind life fre...  rock   \n",
       "2884289  dexter going sad tell realest tell great seein...   rap   \n",
       "4602322  rhyming every day majesty glad see strategy fa...   rap   \n",
       "2091379  broken bruised burned lesson never learned twi...   pop   \n",
       "4767180  come take badge wear getting dark see feel lik...  rock   \n",
       "\n",
       "                                                    tokens  baby_count  \\\n",
       "2379187  [fog, confusion, melting, away, clear, mind, l...           0   \n",
       "2884289  [dexter, going, sad, tell, realest, tell, grea...           0   \n",
       "4602322  [rhyming, every, day, majesty, glad, see, stra...           0   \n",
       "2091379  [broken, bruised, burned, lesson, never, learn...           0   \n",
       "4767180  [come, take, badge, wear, getting, dark, see, ...           0   \n",
       "\n",
       "         avg_word_length  word_count  \n",
       "2379187         6.147059          68  \n",
       "2884289         5.174538         487  \n",
       "4602322         5.578680         394  \n",
       "2091379         5.085106          94  \n",
       "4767180         5.169014          71  "
      ],
      "text/html": [
       "<div>\n",
       "<style scoped>\n",
       "    .dataframe tbody tr th:only-of-type {\n",
       "        vertical-align: middle;\n",
       "    }\n",
       "\n",
       "    .dataframe tbody tr th {\n",
       "        vertical-align: top;\n",
       "    }\n",
       "\n",
       "    .dataframe thead th {\n",
       "        text-align: right;\n",
       "    }\n",
       "</style>\n",
       "<table border=\"1\" class=\"dataframe\">\n",
       "  <thead>\n",
       "    <tr style=\"text-align: right;\">\n",
       "      <th></th>\n",
       "      <th>lyrics</th>\n",
       "      <th>tag</th>\n",
       "      <th>tokens</th>\n",
       "      <th>baby_count</th>\n",
       "      <th>avg_word_length</th>\n",
       "      <th>word_count</th>\n",
       "    </tr>\n",
       "  </thead>\n",
       "  <tbody>\n",
       "    <tr>\n",
       "      <th>2379187</th>\n",
       "      <td>fog confusion melting away clear mind life fre...</td>\n",
       "      <td>rock</td>\n",
       "      <td>[fog, confusion, melting, away, clear, mind, l...</td>\n",
       "      <td>0</td>\n",
       "      <td>6.147059</td>\n",
       "      <td>68</td>\n",
       "    </tr>\n",
       "    <tr>\n",
       "      <th>2884289</th>\n",
       "      <td>dexter going sad tell realest tell great seein...</td>\n",
       "      <td>rap</td>\n",
       "      <td>[dexter, going, sad, tell, realest, tell, grea...</td>\n",
       "      <td>0</td>\n",
       "      <td>5.174538</td>\n",
       "      <td>487</td>\n",
       "    </tr>\n",
       "    <tr>\n",
       "      <th>4602322</th>\n",
       "      <td>rhyming every day majesty glad see strategy fa...</td>\n",
       "      <td>rap</td>\n",
       "      <td>[rhyming, every, day, majesty, glad, see, stra...</td>\n",
       "      <td>0</td>\n",
       "      <td>5.578680</td>\n",
       "      <td>394</td>\n",
       "    </tr>\n",
       "    <tr>\n",
       "      <th>2091379</th>\n",
       "      <td>broken bruised burned lesson never learned twi...</td>\n",
       "      <td>pop</td>\n",
       "      <td>[broken, bruised, burned, lesson, never, learn...</td>\n",
       "      <td>0</td>\n",
       "      <td>5.085106</td>\n",
       "      <td>94</td>\n",
       "    </tr>\n",
       "    <tr>\n",
       "      <th>4767180</th>\n",
       "      <td>come take badge wear getting dark see feel lik...</td>\n",
       "      <td>rock</td>\n",
       "      <td>[come, take, badge, wear, getting, dark, see, ...</td>\n",
       "      <td>0</td>\n",
       "      <td>5.169014</td>\n",
       "      <td>71</td>\n",
       "    </tr>\n",
       "  </tbody>\n",
       "</table>\n",
       "</div>"
      ]
     },
     "execution_count": 16,
     "metadata": {},
     "output_type": "execute_result"
    }
   ],
   "execution_count": 16
  },
  {
   "metadata": {
    "ExecuteTime": {
     "end_time": "2024-12-30T10:45:34.940442Z",
     "start_time": "2024-12-30T10:45:34.923130Z"
    }
   },
   "cell_type": "code",
   "source": [
    "# check if baby_count is correlated with specific genres\n",
    "print(df_reduced.groupby('tag')['baby_count'].mean())"
   ],
   "id": "136daa38a5b24bf5",
   "outputs": [
    {
     "name": "stdout",
     "output_type": "stream",
     "text": [
      "tag\n",
      "country    0.571446\n",
      "pop        0.595364\n",
      "rap        0.597354\n",
      "rb         1.962054\n",
      "rock       0.260981\n",
      "Name: baby_count, dtype: float64\n"
     ]
    }
   ],
   "execution_count": 17
  },
  {
   "metadata": {
    "ExecuteTime": {
     "end_time": "2024-12-30T10:50:12.740848Z",
     "start_time": "2024-12-30T10:45:35.035097Z"
    }
   },
   "cell_type": "code",
   "source": [
    "# Enhanced Word2Vec Vectorization\n",
    "sentences = df_reduced['tokens'].tolist()  # Convert tokens column to a list of sentences (lists of words)\n",
    "w2v_model = Word2Vec(sentences, vector_size=250, window=6, min_count=3, workers=8, seed=77, sg=1,)  # Train Word2Vec model with optimized parameters\n",
    "\n",
    "print('done training Word2Vec model')"
   ],
   "id": "5d6e3ab23a26d4dd",
   "outputs": [
    {
     "name": "stdout",
     "output_type": "stream",
     "text": [
      "done training Word2Vec model\n"
     ]
    }
   ],
   "execution_count": 18
  },
  {
   "metadata": {
    "ExecuteTime": {
     "end_time": "2024-12-30T10:50:12.948410Z",
     "start_time": "2024-12-30T10:50:12.793938Z"
    }
   },
   "cell_type": "code",
   "source": [
    "# Save the trained Word2Vec model to a file\n",
    "w2v_model.save(\"models/word2vec_model.model\")"
   ],
   "id": "ac43c2ab830a86ca",
   "outputs": [],
   "execution_count": 19
  },
  {
   "metadata": {
    "ExecuteTime": {
     "end_time": "2024-12-30T10:50:13.001046Z",
     "start_time": "2024-12-30T10:50:12.951700Z"
    }
   },
   "cell_type": "code",
   "source": [
    "# checking Word2Vec model\n",
    "\n",
    "# Get all unique words in the model's vocabulary\n",
    "vocabulary = w2v_model.wv.index_to_key\n",
    "print(vocabulary[:50])\n",
    "\n",
    "# Get the total number of words in the vocabulary\n",
    "vocab_size = len(vocabulary)\n",
    "print(f\"Vocabulary size: {vocab_size}\")\n",
    "\n",
    "# Get the count of occurrences for a specific word\n",
    "word = 'baby'\n",
    "word_count = w2v_model.wv.get_vecattr(word, \"count\")\n",
    "print(f\"'{word}' occurred {word_count} times in the training data.\")\n",
    "\n",
    "# Find words most similar to 'baby'\n",
    "similar_words = w2v_model.wv.most_similar('book', topn=10)\n",
    "print(similar_words)\n",
    "\n",
    "# Calculate similarity between two words\n",
    "word_one = 'love'\n",
    "word_two = 'hate'\n",
    "similarity = w2v_model.wv.similarity(word_one, word_two)\n",
    "print(f\"Similarity between {word_one} and {word_two}: {similarity}\")\n"
   ],
   "id": "689791deed6020f8",
   "outputs": [
    {
     "name": "stdout",
     "output_type": "stream",
     "text": [
      "['like', 'know', 'got', 'get', 'love', 'yeah', 'time', 'see', 'one', 'never', 'let', 'make', 'want', 'nigga', 'back', 'say', 'come', 'cause', 'feel', 'way', 'take', 'wanna', 'life', 'bitch', 'need', 'baby', 'shit', 'day', 'fuck', 'right', 'man', 'tell', 'keep', 'think', 'girl', 'give', 'night', 'away', 'thing', 'heart', 'still', 'gonna', 'look', 'mind', 'eye', 'said', 'good', 'every', 'world', 'always']\n",
      "Vocabulary size: 98298\n",
      "'baby' occurred 178611 times in the training data.\n",
      "[('pageless', 0.6816825270652771), ('read', 0.6389986276626587), ('page', 0.6210950613021851), ('reading', 0.5996007919311523), ('bible', 0.5884202122688293), ('chapter', 0.5754715204238892), ('library', 0.5507932901382446), ('bookworm', 0.5461357831954956), ('footnote', 0.543941080570221), ('notebook', 0.5409099459648132)]\n",
      "Similarity between love and hate: 0.443111389875412\n"
     ]
    }
   ],
   "execution_count": 20
  },
  {
   "metadata": {
    "ExecuteTime": {
     "end_time": "2024-12-30T10:50:27.752777Z",
     "start_time": "2024-12-30T10:50:13.008660Z"
    }
   },
   "cell_type": "code",
   "source": [
    "# TF-IDF Vectorizer for weighted aggregation\n",
    "tfidf_vectorizer = TfidfVectorizer(max_features=8000)\n",
    "tfidf_matrix = tfidf_vectorizer.fit_transform(df_reduced['lyrics'])  # Fit TF-IDF on the lyrics\n",
    "vocab = tfidf_vectorizer.get_feature_names_out()\n",
    "tfidf_weights = dict(zip(vocab, tfidf_vectorizer.idf_))  # Map words to their TF-IDF weights\n"
   ],
   "id": "5b7ea59cbb027925",
   "outputs": [],
   "execution_count": 21
  },
  {
   "metadata": {
    "ExecuteTime": {
     "end_time": "2024-12-30T10:50:27.835989Z",
     "start_time": "2024-12-30T10:50:27.763778Z"
    }
   },
   "cell_type": "code",
   "source": [
    "# Save the TF-IDF vectorizer\n",
    "joblib.dump(tfidf_vectorizer, 'models/tfidf_vectorizer.pkl')"
   ],
   "id": "e5442a21ebc6db2d",
   "outputs": [
    {
     "data": {
      "text/plain": [
       "['models/tfidf_vectorizer.pkl']"
      ]
     },
     "execution_count": 22,
     "metadata": {},
     "output_type": "execute_result"
    }
   ],
   "execution_count": 22
  },
  {
   "metadata": {
    "ExecuteTime": {
     "end_time": "2024-12-30T10:50:27.859096Z",
     "start_time": "2024-12-30T10:50:27.851941Z"
    }
   },
   "cell_type": "code",
   "source": [
    "# checking TF-IDF model\n",
    "\n",
    "# Dictionary of terms and their indices\n",
    "# print(tfidf_vectorizer.vocabulary_)\n",
    "\n",
    "# terms in the vocabulary.\n",
    "feature_names = tfidf_vectorizer.get_feature_names_out()\n",
    "print(feature_names[:10])\n"
   ],
   "id": "3555824f3c003a48",
   "outputs": [
    {
     "name": "stdout",
     "output_type": "stream",
     "text": [
      "['abandon' 'abandoned' 'abide' 'ability' 'ablaze' 'able' 'aboard'\n",
      " 'abortion' 'absence' 'absent']\n"
     ]
    }
   ],
   "execution_count": 23
  },
  {
   "metadata": {
    "ExecuteTime": {
     "end_time": "2024-12-30T10:54:55.665138Z",
     "start_time": "2024-12-30T10:53:25.458870Z"
    }
   },
   "cell_type": "code",
   "source": [
    "# this function computes a single fixed-size vector that represents a list of word tokens\n",
    "def compute_weighted_w2v_vector(tokens, model, tfidf_weights, vector_size):\n",
    "    \"\"\"\n",
    "    Compute a weighted Word2Vec vector for tokens using TF-IDF weights.\n",
    "\n",
    "    Args:\n",
    "        tokens (list): List of word tokens.\n",
    "        model (Word2Vec): Trained Word2Vec model.\n",
    "        tfidf_weights (dict): Mapping of words to their TF-IDF weights.\n",
    "        vector_size (int): Dimension of the Word2Vec vectors.\n",
    "\n",
    "    Returns:\n",
    "        np.ndarray: Weighted sum of Word2Vec vectors for the tokens.\n",
    "    \"\"\"\n",
    "    word_vectors = []\n",
    "    for word in tokens:\n",
    "        if word in model.wv and word in tfidf_weights:\n",
    "            weight = tfidf_weights.get(word, 1.0)  # Default to 1.0 if word not in TF-IDF\n",
    "            word_vectors.append(weight * model.wv[word])\n",
    "    if not word_vectors:\n",
    "        return np.zeros(vector_size)  # Return zero vector if no valid words\n",
    "    return np.sum(word_vectors, axis=0)  # Compute the weighted sum\n",
    "\n",
    "# Compute weighted Word2Vec vectors\n",
    "df_reduced['w2v_vector'] = df_reduced['tokens'].apply(lambda x: compute_weighted_w2v_vector(x, w2v_model, tfidf_weights, 250))\n",
    "df_reduced.head()"
   ],
   "id": "74a4f87c5c6f525",
   "outputs": [
    {
     "data": {
      "text/plain": [
       "                                                    lyrics   tag  \\\n",
       "2379187  fog confusion melting away clear mind life fre...  rock   \n",
       "2884289  dexter going sad tell realest tell great seein...   rap   \n",
       "4602322  rhyming every day majesty glad see strategy fa...   rap   \n",
       "2091379  broken bruised burned lesson never learned twi...   pop   \n",
       "4767180  come take badge wear getting dark see feel lik...  rock   \n",
       "\n",
       "                                                    tokens  baby_count  \\\n",
       "2379187  [fog, confusion, melting, away, clear, mind, l...           0   \n",
       "2884289  [dexter, going, sad, tell, realest, tell, grea...           0   \n",
       "4602322  [rhyming, every, day, majesty, glad, see, stra...           0   \n",
       "2091379  [broken, bruised, burned, lesson, never, learn...           0   \n",
       "4767180  [come, take, badge, wear, getting, dark, see, ...           0   \n",
       "\n",
       "         avg_word_length  word_count  \\\n",
       "2379187         6.147059          68   \n",
       "2884289         5.174538         487   \n",
       "4602322         5.578680         394   \n",
       "2091379         5.085106          94   \n",
       "4767180         5.169014          71   \n",
       "\n",
       "                                                w2v_vector  \n",
       "2379187  [3.2480717, -5.7853684, -17.560335, -25.147758...  \n",
       "2884289  [52.83753, 128.53455, -7.1937704, -175.41594, ...  \n",
       "4602322  [45.99535, 27.41052, -62.4822, -163.86679, 299...  \n",
       "2091379  [9.222584, 20.831038, -12.772802, -37.420265, ...  \n",
       "4767180  [-0.25963086, 46.255802, 1.6554205, -20.775427...  "
      ],
      "text/html": [
       "<div>\n",
       "<style scoped>\n",
       "    .dataframe tbody tr th:only-of-type {\n",
       "        vertical-align: middle;\n",
       "    }\n",
       "\n",
       "    .dataframe tbody tr th {\n",
       "        vertical-align: top;\n",
       "    }\n",
       "\n",
       "    .dataframe thead th {\n",
       "        text-align: right;\n",
       "    }\n",
       "</style>\n",
       "<table border=\"1\" class=\"dataframe\">\n",
       "  <thead>\n",
       "    <tr style=\"text-align: right;\">\n",
       "      <th></th>\n",
       "      <th>lyrics</th>\n",
       "      <th>tag</th>\n",
       "      <th>tokens</th>\n",
       "      <th>baby_count</th>\n",
       "      <th>avg_word_length</th>\n",
       "      <th>word_count</th>\n",
       "      <th>w2v_vector</th>\n",
       "    </tr>\n",
       "  </thead>\n",
       "  <tbody>\n",
       "    <tr>\n",
       "      <th>2379187</th>\n",
       "      <td>fog confusion melting away clear mind life fre...</td>\n",
       "      <td>rock</td>\n",
       "      <td>[fog, confusion, melting, away, clear, mind, l...</td>\n",
       "      <td>0</td>\n",
       "      <td>6.147059</td>\n",
       "      <td>68</td>\n",
       "      <td>[3.2480717, -5.7853684, -17.560335, -25.147758...</td>\n",
       "    </tr>\n",
       "    <tr>\n",
       "      <th>2884289</th>\n",
       "      <td>dexter going sad tell realest tell great seein...</td>\n",
       "      <td>rap</td>\n",
       "      <td>[dexter, going, sad, tell, realest, tell, grea...</td>\n",
       "      <td>0</td>\n",
       "      <td>5.174538</td>\n",
       "      <td>487</td>\n",
       "      <td>[52.83753, 128.53455, -7.1937704, -175.41594, ...</td>\n",
       "    </tr>\n",
       "    <tr>\n",
       "      <th>4602322</th>\n",
       "      <td>rhyming every day majesty glad see strategy fa...</td>\n",
       "      <td>rap</td>\n",
       "      <td>[rhyming, every, day, majesty, glad, see, stra...</td>\n",
       "      <td>0</td>\n",
       "      <td>5.578680</td>\n",
       "      <td>394</td>\n",
       "      <td>[45.99535, 27.41052, -62.4822, -163.86679, 299...</td>\n",
       "    </tr>\n",
       "    <tr>\n",
       "      <th>2091379</th>\n",
       "      <td>broken bruised burned lesson never learned twi...</td>\n",
       "      <td>pop</td>\n",
       "      <td>[broken, bruised, burned, lesson, never, learn...</td>\n",
       "      <td>0</td>\n",
       "      <td>5.085106</td>\n",
       "      <td>94</td>\n",
       "      <td>[9.222584, 20.831038, -12.772802, -37.420265, ...</td>\n",
       "    </tr>\n",
       "    <tr>\n",
       "      <th>4767180</th>\n",
       "      <td>come take badge wear getting dark see feel lik...</td>\n",
       "      <td>rock</td>\n",
       "      <td>[come, take, badge, wear, getting, dark, see, ...</td>\n",
       "      <td>0</td>\n",
       "      <td>5.169014</td>\n",
       "      <td>71</td>\n",
       "      <td>[-0.25963086, 46.255802, 1.6554205, -20.775427...</td>\n",
       "    </tr>\n",
       "  </tbody>\n",
       "</table>\n",
       "</div>"
      ]
     },
     "execution_count": 26,
     "metadata": {},
     "output_type": "execute_result"
    }
   ],
   "execution_count": 26
  },
  {
   "metadata": {
    "ExecuteTime": {
     "end_time": "2024-12-30T10:55:14.736439Z",
     "start_time": "2024-12-30T10:55:13.244558Z"
    }
   },
   "cell_type": "code",
   "source": [
    "# Combine Word2Vec vectors and handcrafted features\n",
    "w2v_features = np.vstack(df_reduced['w2v_vector'].values)  # Stack Word2Vec vectors into a 2D array\n",
    "handcrafted_features = df_reduced[['baby_count', 'avg_word_length', 'word_count']].values  # Extract handcrafted features\n",
    "combined_features = np.hstack((w2v_features, handcrafted_features))  # Combine Word2Vec and handcrafted features\n",
    "\n",
    "print(combined_features.shape)"
   ],
   "id": "5ffafa386ba73c55",
   "outputs": [
    {
     "name": "stdout",
     "output_type": "stream",
     "text": [
      "(300000, 253)\n"
     ]
    }
   ],
   "execution_count": 27
  },
  {
   "metadata": {},
   "cell_type": "markdown",
   "source": "## preparing data for training",
   "id": "2030fcb2a032b5c4"
  },
  {
   "metadata": {
    "ExecuteTime": {
     "end_time": "2024-12-30T10:55:19.612614Z",
     "start_time": "2024-12-30T10:55:19.579948Z"
    }
   },
   "cell_type": "code",
   "source": [
    "# Encode the target labels\n",
    "label_encoder = LabelEncoder()  # Create a LabelEncoder instance\n",
    "y = label_encoder.fit_transform(df_reduced['tag'])  # Convert tag labels to numerical format"
   ],
   "id": "f72746b44ed4f4d",
   "outputs": [],
   "execution_count": 28
  },
  {
   "metadata": {
    "ExecuteTime": {
     "end_time": "2024-12-30T10:55:21.585765Z",
     "start_time": "2024-12-30T10:55:21.582191Z"
    }
   },
   "cell_type": "code",
   "source": [
    "# checking\n",
    "\n",
    "# Print the mapping of labels to encoded values\n",
    "label_mapping = dict(zip(label_encoder.classes_, range(len(label_encoder.classes_))))\n",
    "print(\"Label Mapping (Original Labels to Encoded Values):\")\n",
    "for label, encoded in label_mapping.items():\n",
    "    print(f\"{label} -> {encoded}\")\n",
    "\n",
    "# Print the first few values of y\n",
    "print(len(y))\n",
    "print(\"\\nFirst 10 Encoded Labels in y:\")\n",
    "print(y[:10])"
   ],
   "id": "a9195771ef105358",
   "outputs": [
    {
     "name": "stdout",
     "output_type": "stream",
     "text": [
      "Label Mapping (Original Labels to Encoded Values):\n",
      "country -> 0\n",
      "pop -> 1\n",
      "rap -> 2\n",
      "rb -> 3\n",
      "rock -> 4\n",
      "300000\n",
      "\n",
      "First 10 Encoded Labels in y:\n",
      "[4 2 2 1 4 1 2 1 0 2]\n"
     ]
    }
   ],
   "execution_count": 29
  },
  {
   "metadata": {
    "ExecuteTime": {
     "end_time": "2024-12-30T10:55:46.055919Z",
     "start_time": "2024-12-30T10:55:45.050161Z"
    }
   },
   "cell_type": "code",
   "source": [
    "from sklearn.preprocessing import StandardScaler\n",
    "scaler = StandardScaler()\n",
    "X_selected_scaled = scaler.fit_transform(combined_features)\n",
    "\n",
    "# checking\n",
    "print(X_selected_scaled.shape)\n",
    "print(X_selected_scaled)"
   ],
   "id": "122297e29cf877a5",
   "outputs": [
    {
     "name": "stdout",
     "output_type": "stream",
     "text": [
      "(300000, 253)\n",
      "[[-0.10476187 -0.82591868 -0.61710604 ... -0.26202684  2.59636167\n",
      "  -0.6761377 ]\n",
      " [ 1.67438978  2.31203826 -0.28512443 ... -0.26202684  0.39970214\n",
      "   3.52079825]\n",
      " [ 1.42890871 -0.05040248 -2.05569574 ... -0.26202684  1.31254926\n",
      "   2.58925876]\n",
      " ...\n",
      " [-0.54724305 -0.35163457  0.06634205 ... -0.26202684  0.54326065\n",
      "  -0.93656809]\n",
      " [-0.80577678  1.11362593  0.87274369 ...  0.17808073 -0.03347519\n",
      "   0.38561698]\n",
      " [ 3.17993523  3.2899788  -0.90770825 ... -0.26202684 -0.01448503\n",
      "   4.31210598]]\n"
     ]
    }
   ],
   "execution_count": 30
  },
  {
   "metadata": {
    "ExecuteTime": {
     "end_time": "2024-12-30T10:55:48.875189Z",
     "start_time": "2024-12-30T10:55:48.870728Z"
    }
   },
   "cell_type": "code",
   "source": "joblib.dump(scaler, 'models/scaler.pkl')  # Save the scaler",
   "id": "9b0028015de9ab0a",
   "outputs": [
    {
     "data": {
      "text/plain": [
       "['models/scaler.pkl']"
      ]
     },
     "execution_count": 31,
     "metadata": {},
     "output_type": "execute_result"
    }
   ],
   "execution_count": 31
  },
  {
   "metadata": {
    "ExecuteTime": {
     "end_time": "2024-12-30T10:55:53.012263Z",
     "start_time": "2024-12-30T10:55:52.764090Z"
    }
   },
   "cell_type": "code",
   "source": [
    "# Split the data into training and testing sets\n",
    "X_train, X_test, y_train, y_test = train_test_split(X_selected_scaled, y, test_size=0.2, stratify=y, random_state=42)\n",
    "\n",
    "print(X_train.shape, y_train.shape)\n",
    "print(X_test.shape, y_test.shape)"
   ],
   "id": "38a854e38d2cc819",
   "outputs": [
    {
     "name": "stdout",
     "output_type": "stream",
     "text": [
      "(240000, 253) (240000,)\n",
      "(60000, 253) (60000,)\n"
     ]
    }
   ],
   "execution_count": 32
  },
  {
   "metadata": {
    "ExecuteTime": {
     "end_time": "2024-12-30T10:55:54.092682Z",
     "start_time": "2024-12-30T10:55:54.086518Z"
    }
   },
   "cell_type": "code",
   "source": [
    "# Check Class Distribution\n",
    "unique, counts = np.unique(y_train, return_counts=True)\n",
    "print(\"Class distribution in training data:\", dict(zip(unique, counts)))"
   ],
   "id": "28ceb2c45e6a6596",
   "outputs": [
    {
     "name": "stdout",
     "output_type": "stream",
     "text": [
      "Class distribution in training data: {0: 6433, 1: 103443, 2: 71603, 3: 11511, 4: 47010}\n"
     ]
    }
   ],
   "execution_count": 33
  },
  {
   "metadata": {},
   "cell_type": "markdown",
   "source": "## Testing Different Models",
   "id": "25670079b2e676ff"
  },
  {
   "metadata": {
    "ExecuteTime": {
     "end_time": "2024-12-30T12:52:06.582220Z",
     "start_time": "2024-12-30T12:39:22.307209Z"
    }
   },
   "cell_type": "code",
   "source": [
    "from sklearn.metrics import accuracy_score, classification_report\n",
    "from sklearn.svm import LinearSVC\n",
    "from sklearn.linear_model import LogisticRegression\n",
    "from sklearn.ensemble import RandomForestClassifier\n",
    "from sklearn.ensemble import ExtraTreesClassifier\n",
    "from xgboost import XGBClassifier\n",
    "from lightgbm import LGBMClassifier\n",
    "\n",
    "# Define a custom list of classifiers\n",
    "custom_classifiers = {\n",
    "    \"Linear SVM\": LinearSVC(random_state=77),\n",
    "    \"Logistic Regression\": LogisticRegression(max_iter=1000, random_state=77),\n",
    "    \"Random Forest\": RandomForestClassifier(random_state=77),\n",
    "    \"Extra Trees\": ExtraTreesClassifier(random_state=77),\n",
    "    \"XGBoost\": XGBClassifier(random_state=77),\n",
    "    \"LightGBM\": LGBMClassifier(random_state=77),\n",
    "}\n",
    "\n",
    "# Evaluate each classifier\n",
    "results = []\n",
    "for name, model in custom_classifiers.items():\n",
    "    print(f\"Training and evaluating: {name}\")\n",
    "    model.fit(X_train, y_train)  # Train the model\n",
    "    y_pred = model.predict(X_test)  # Predict on the test set\n",
    "    accuracy = accuracy_score(y_test, y_pred)  # Calculate accuracy\n",
    "    print(f\"Accuracy for {name}: {accuracy}\")\n",
    "    print(classification_report(y_test, y_pred, zero_division=0))  # Print classification report\n",
    "    results.append((name, accuracy))\n",
    "\n",
    "# Sort and display results by accuracy\n",
    "results.sort(key=lambda x: x[1], reverse=True)\n",
    "print(\"\\nTop Classifiers:\")\n",
    "for name, accuracy in results:\n",
    "    print(f\"{name}: {accuracy:.4f}\")\n"
   ],
   "id": "deb2d04554afa744",
   "outputs": [
    {
     "name": "stdout",
     "output_type": "stream",
     "text": [
      "Training and evaluating: Linear SVM\n",
      "Accuracy for Linear SVM: 0.6564166666666666\n",
      "              precision    recall  f1-score   support\n",
      "\n",
      "           0       0.31      0.00      0.01      1608\n",
      "           1       0.58      0.91      0.71     25861\n",
      "           2       0.85      0.81      0.83     17900\n",
      "           3       0.29      0.00      0.00      2878\n",
      "           4       0.59      0.12      0.20     11753\n",
      "\n",
      "    accuracy                           0.66     60000\n",
      "   macro avg       0.52      0.37      0.35     60000\n",
      "weighted avg       0.64      0.66      0.59     60000\n",
      "\n",
      "Training and evaluating: Logistic Regression\n",
      "Accuracy for Logistic Regression: 0.6570666666666667\n",
      "              precision    recall  f1-score   support\n",
      "\n",
      "           0       0.40      0.06      0.10      1608\n",
      "           1       0.58      0.88      0.70     25861\n",
      "           2       0.86      0.80      0.83     17900\n",
      "           3       0.33      0.05      0.08      2878\n",
      "           4       0.57      0.18      0.27     11753\n",
      "\n",
      "    accuracy                           0.66     60000\n",
      "   macro avg       0.55      0.39      0.40     60000\n",
      "weighted avg       0.65      0.66      0.61     60000\n",
      "\n",
      "Training and evaluating: Random Forest\n",
      "Accuracy for Random Forest: 0.6632\n",
      "              precision    recall  f1-score   support\n",
      "\n",
      "           0       0.46      0.01      0.02      1608\n",
      "           1       0.59      0.89      0.71     25861\n",
      "           2       0.84      0.84      0.84     17900\n",
      "           3       0.43      0.00      0.01      2878\n",
      "           4       0.57      0.15      0.24     11753\n",
      "\n",
      "    accuracy                           0.66     60000\n",
      "   macro avg       0.58      0.38      0.36     60000\n",
      "weighted avg       0.65      0.66      0.60     60000\n",
      "\n",
      "Training and evaluating: Extra Trees\n",
      "Accuracy for Extra Trees: 0.6625333333333333\n",
      "              precision    recall  f1-score   support\n",
      "\n",
      "           0       0.43      0.02      0.03      1608\n",
      "           1       0.59      0.89      0.71     25861\n",
      "           2       0.83      0.84      0.84     17900\n",
      "           3       0.47      0.00      0.01      2878\n",
      "           4       0.60      0.14      0.22     11753\n",
      "\n",
      "    accuracy                           0.66     60000\n",
      "   macro avg       0.58      0.38      0.36     60000\n",
      "weighted avg       0.65      0.66      0.60     60000\n",
      "\n",
      "Training and evaluating: XGBoost\n",
      "Accuracy for XGBoost: 0.6759333333333334\n",
      "              precision    recall  f1-score   support\n",
      "\n",
      "           0       0.53      0.10      0.16      1608\n",
      "           1       0.61      0.85      0.71     25861\n",
      "           2       0.84      0.87      0.86     17900\n",
      "           3       0.40      0.07      0.12      2878\n",
      "           4       0.55      0.23      0.33     11753\n",
      "\n",
      "    accuracy                           0.68     60000\n",
      "   macro avg       0.59      0.42      0.43     60000\n",
      "weighted avg       0.66      0.68      0.64     60000\n",
      "\n",
      "Training and evaluating: LightGBM\n",
      "[LightGBM] [Info] Auto-choosing col-wise multi-threading, the overhead of testing was 0.063214 seconds.\n",
      "You can set `force_col_wise=true` to remove the overhead.\n",
      "[LightGBM] [Info] Total Bins 64318\n",
      "[LightGBM] [Info] Number of data points in the train set: 240000, number of used features: 253\n",
      "[LightGBM] [Info] Start training from score -3.619198\n",
      "[LightGBM] [Info] Start training from score -0.841618\n",
      "[LightGBM] [Info] Start training from score -1.209502\n",
      "[LightGBM] [Info] Start training from score -3.037336\n",
      "[LightGBM] [Info] Start training from score -1.630279\n",
      "Accuracy for LightGBM: 0.6747666666666666\n",
      "              precision    recall  f1-score   support\n",
      "\n",
      "           0       0.44      0.08      0.13      1608\n",
      "           1       0.61      0.86      0.71     25861\n",
      "           2       0.84      0.86      0.85     17900\n",
      "           3       0.39      0.06      0.10      2878\n",
      "           4       0.58      0.21      0.31     11753\n",
      "\n",
      "    accuracy                           0.67     60000\n",
      "   macro avg       0.57      0.41      0.42     60000\n",
      "weighted avg       0.66      0.67      0.63     60000\n",
      "\n",
      "\n",
      "Top Classifiers:\n",
      "XGBoost: 0.6759\n",
      "LightGBM: 0.6748\n",
      "Random Forest: 0.6632\n",
      "Extra Trees: 0.6625\n",
      "Logistic Regression: 0.6571\n",
      "Linear SVM: 0.6564\n"
     ]
    }
   ],
   "execution_count": 35
  },
  {
   "metadata": {},
   "cell_type": "markdown",
   "source": "## Training Model",
   "id": "b42692d877cc6b95"
  },
  {
   "metadata": {},
   "cell_type": "markdown",
   "source": "Model 1: LightGBM",
   "id": "7c9d2440f3ed967d"
  },
  {
   "metadata": {
    "ExecuteTime": {
     "end_time": "2024-12-30T12:53:57.721942Z",
     "start_time": "2024-12-30T12:53:30.933111Z"
    }
   },
   "cell_type": "code",
   "source": [
    "from lightgbm import LGBMClassifier\n",
    "from sklearn.metrics import accuracy_score, classification_report\n",
    "\n",
    "# Train the LightGBM model\n",
    "lightgbm_model = LGBMClassifier(n_estimators=200, learning_rate=0.1, max_depth=12, n_jobs=8, random_state=77)\n",
    "lightgbm_model.fit(X_train, y_train)  # Train the model\n",
    "\n",
    "# Make predictions\n",
    "y_pred_lgbm = lightgbm_model.predict(X_test)\n",
    "\n",
    "# Evaluate the model\n",
    "accuracy = accuracy_score(y_test, y_pred_lgbm)\n",
    "print(f\"LightGBM Accuracy: {accuracy:.4f}\")\n",
    "print(\"Classification Report:\\n\", classification_report(y_test, y_pred_lgbm))"
   ],
   "id": "9be9df06c762201c",
   "outputs": [
    {
     "name": "stdout",
     "output_type": "stream",
     "text": [
      "[LightGBM] [Info] Auto-choosing col-wise multi-threading, the overhead of testing was 0.064967 seconds.\n",
      "You can set `force_col_wise=true` to remove the overhead.\n",
      "[LightGBM] [Info] Total Bins 64318\n",
      "[LightGBM] [Info] Number of data points in the train set: 240000, number of used features: 253\n",
      "[LightGBM] [Info] Start training from score -3.619198\n",
      "[LightGBM] [Info] Start training from score -0.841618\n",
      "[LightGBM] [Info] Start training from score -1.209502\n",
      "[LightGBM] [Info] Start training from score -3.037336\n",
      "[LightGBM] [Info] Start training from score -1.630279\n",
      "LightGBM Accuracy: 0.6765\n",
      "Classification Report:\n",
      "               precision    recall  f1-score   support\n",
      "\n",
      "           0       0.44      0.10      0.16      1608\n",
      "           1       0.61      0.86      0.71     25861\n",
      "           2       0.84      0.87      0.86     17900\n",
      "           3       0.42      0.07      0.12      2878\n",
      "           4       0.56      0.22      0.32     11753\n",
      "\n",
      "    accuracy                           0.68     60000\n",
      "   macro avg       0.58      0.42      0.43     60000\n",
      "weighted avg       0.66      0.68      0.63     60000\n",
      "\n"
     ]
    }
   ],
   "execution_count": 36
  },
  {
   "metadata": {
    "ExecuteTime": {
     "end_time": "2024-12-30T12:53:57.892083Z",
     "start_time": "2024-12-30T12:53:57.725469Z"
    }
   },
   "cell_type": "code",
   "source": [
    "from sklearn.metrics import confusion_matrix\n",
    "import seaborn as sns\n",
    "import matplotlib.pyplot as plt\n",
    "\n",
    "# Compute and plot the confusion matrix\n",
    "conf_matrix = confusion_matrix(y_test, y_pred_lgbm)\n",
    "\n",
    "# Plot confusion matrix\n",
    "plt.figure(figsize=(10, 8))\n",
    "sns.heatmap(conf_matrix, annot=True, fmt='d', cmap='Blues', xticklabels=label_encoder.classes_, yticklabels=label_encoder.classes_)\n",
    "plt.xlabel('Predicted Labels')\n",
    "plt.ylabel('True Labels')\n",
    "plt.title('Confusion Matrix for LightGBM Model')\n",
    "plt.show()"
   ],
   "id": "ebd2002a921c5182",
   "outputs": [
    {
     "data": {
      "text/plain": [
       "<Figure size 1000x800 with 2 Axes>"
      ],
      "image/png": "[encoded data removed]"
     },
     "metadata": {},
     "output_type": "display_data"
    }
   ],
   "execution_count": 37
  },
  {
   "metadata": {
    "ExecuteTime": {
     "end_time": "2024-12-30T12:53:57.949735Z",
     "start_time": "2024-12-30T12:53:57.909313Z"
    }
   },
   "cell_type": "code",
   "source": [
    "# Save the trained LightGBM model\n",
    "joblib.dump(lightgbm_model, 'models/lightgbm_model.pkl')"
   ],
   "id": "5a3c6e32fe7c8fa3",
   "outputs": [
    {
     "data": {
      "text/plain": [
       "['models/lightgbm_model.pkl']"
      ]
     },
     "execution_count": 38,
     "metadata": {},
     "output_type": "execute_result"
    }
   ],
   "execution_count": 38
  },
  {
   "metadata": {},
   "cell_type": "markdown",
   "source": "Model 2: Random Forest",
   "id": "8d40c263764820cf"
  },
  {
   "metadata": {
    "ExecuteTime": {
     "end_time": "2024-12-30T13:10:02.093835Z",
     "start_time": "2024-12-30T13:00:49.697331Z"
    }
   },
   "cell_type": "code",
   "source": [
    "from sklearn.ensemble import RandomForestClassifier\n",
    "from sklearn.metrics import accuracy_score, classification_report\n",
    "\n",
    "# Train the Random Forest model\n",
    "random_forest_model = RandomForestClassifier(random_state=77)\n",
    "random_forest_model.fit(X_train, y_train)  # Train the model\n",
    "\n",
    "# Make predictions\n",
    "y_pred_rf = random_forest_model.predict(X_test)\n",
    "\n",
    "# Evaluate the model\n",
    "accuracy = accuracy_score(y_test, y_pred_rf)\n",
    "print(f\"Random Forest Accuracy: {accuracy:.4f}\")\n",
    "print(\"Classification Report:\\n\", classification_report(y_test, y_pred_rf))"
   ],
   "id": "aab450013068e35b",
   "outputs": [
    {
     "name": "stdout",
     "output_type": "stream",
     "text": [
      "Random Forest Accuracy: 0.6632\n",
      "Classification Report:\n",
      "               precision    recall  f1-score   support\n",
      "\n",
      "           0       0.46      0.01      0.02      1608\n",
      "           1       0.59      0.89      0.71     25861\n",
      "           2       0.84      0.84      0.84     17900\n",
      "           3       0.43      0.00      0.01      2878\n",
      "           4       0.57      0.15      0.24     11753\n",
      "\n",
      "    accuracy                           0.66     60000\n",
      "   macro avg       0.58      0.38      0.36     60000\n",
      "weighted avg       0.65      0.66      0.60     60000\n",
      "\n"
     ]
    }
   ],
   "execution_count": 40
  },
  {
   "metadata": {
    "ExecuteTime": {
     "end_time": "2024-12-30T13:10:02.285393Z",
     "start_time": "2024-12-30T13:10:02.182997Z"
    }
   },
   "cell_type": "code",
   "source": [
    "from sklearn.metrics import confusion_matrix\n",
    "import seaborn as sns\n",
    "import matplotlib.pyplot as plt\n",
    "\n",
    "# Compute and plot the confusion matrix\n",
    "conf_matrix = confusion_matrix(y_test, y_pred_rf)\n",
    "\n",
    "# Plot confusion matrix\n",
    "plt.figure(figsize=(10, 8))\n",
    "sns.heatmap(conf_matrix, annot=True, fmt='d', cmap='Blues', xticklabels=label_encoder.classes_, yticklabels=label_encoder.classes_)\n",
    "plt.xlabel('Predicted Labels')\n",
    "plt.ylabel('True Labels')\n",
    "plt.title('Confusion Matrix for Random Forest Model')\n",
    "plt.show()"
   ],
   "id": "d5cddea9d21ea4dd",
   "outputs": [
    {
     "data": {
      "text/plain": [
       "<Figure size 1000x800 with 2 Axes>"
      ],
      "image/png": "[encoded data removed]"
     },
     "metadata": {},
     "output_type": "display_data"
    }
   ],
   "execution_count": 41
  },
  {
   "metadata": {
    "ExecuteTime": {
     "end_time": "2024-12-30T13:10:02.632591Z",
     "start_time": "2024-12-30T13:10:02.291015Z"
    }
   },
   "cell_type": "code",
   "source": [
    "# Save the trained Random Forest model\n",
    "joblib.dump(random_forest_model, 'models/random_forest_model.pkl')"
   ],
   "id": "656db9c9061318a7",
   "outputs": [
    {
     "data": {
      "text/plain": [
       "['models/random_forest_model.pkl']"
      ]
     },
     "execution_count": 42,
     "metadata": {},
     "output_type": "execute_result"
    }
   ],
   "execution_count": 42
  },
  {
   "metadata": {},
   "cell_type": "markdown",
   "source": "Model 3: XGradientBoost",
   "id": "4364d549a191dd99"
  },
  {
   "metadata": {
    "ExecuteTime": {
     "end_time": "2024-12-30T13:10:18.247430Z",
     "start_time": "2024-12-30T13:10:02.664305Z"
    }
   },
   "cell_type": "code",
   "source": [
    "from xgboost import XGBClassifier\n",
    "from sklearn.metrics import accuracy_score, classification_report\n",
    "\n",
    "# Train the XGradientBoost model\n",
    "xgboost_model = XGBClassifier(random_state=77)\n",
    "xgboost_model.fit(X_train, y_train)  # Train the model\n",
    "\n",
    "# Make predictions\n",
    "y_pred_xgboost = xgboost_model.predict(X_test)\n",
    "\n",
    "# Evaluate the model\n",
    "accuracy = accuracy_score(y_test, y_pred_xgboost)\n",
    "print(f\"XGradientBoost Accuracy: {accuracy:.4f}\")\n",
    "print(\"Classification Report:\\n\", classification_report(y_test, y_pred_xgboost))"
   ],
   "id": "e30e0a779bfcd1b8",
   "outputs": [
    {
     "name": "stdout",
     "output_type": "stream",
     "text": [
      "XGradientBoost Accuracy: 0.6759\n",
      "Classification Report:\n",
      "               precision    recall  f1-score   support\n",
      "\n",
      "           0       0.53      0.10      0.16      1608\n",
      "           1       0.61      0.85      0.71     25861\n",
      "           2       0.84      0.87      0.86     17900\n",
      "           3       0.40      0.07      0.12      2878\n",
      "           4       0.55      0.23      0.33     11753\n",
      "\n",
      "    accuracy                           0.68     60000\n",
      "   macro avg       0.59      0.42      0.43     60000\n",
      "weighted avg       0.66      0.68      0.64     60000\n",
      "\n"
     ]
    }
   ],
   "execution_count": 43
  },
  {
   "metadata": {
    "ExecuteTime": {
     "end_time": "2024-12-30T13:10:18.365566Z",
     "start_time": "2024-12-30T13:10:18.254478Z"
    }
   },
   "cell_type": "code",
   "source": [
    "from sklearn.metrics import confusion_matrix\n",
    "import seaborn as sns\n",
    "import matplotlib.pyplot as plt\n",
    "\n",
    "# Compute and plot the confusion matrix\n",
    "conf_matrix = confusion_matrix(y_test, y_pred_xgboost)\n",
    "\n",
    "# Plot confusion matrix\n",
    "plt.figure(figsize=(10, 8))\n",
    "sns.heatmap(conf_matrix, annot=True, fmt='d', cmap='Blues', xticklabels=label_encoder.classes_, yticklabels=label_encoder.classes_)\n",
    "plt.xlabel('Predicted Labels')\n",
    "plt.ylabel('True Labels')\n",
    "plt.title('Confusion Matrix for XGradientBoost Model')\n",
    "plt.show()"
   ],
   "id": "c3a8d493c82d59e5",
   "outputs": [
    {
     "data": {
      "text/plain": [
       "<Figure size 1000x800 with 2 Axes>"
      ],
      "image/png": "[encoded data removed]"
     },
     "metadata": {},
     "output_type": "display_data"
    }
   ],
   "execution_count": 44
  },
  {
   "metadata": {
    "ExecuteTime": {
     "end_time": "2024-12-30T13:35:50.691346Z",
     "start_time": "2024-12-30T13:35:50.655221Z"
    }
   },
   "cell_type": "code",
   "source": [
    "# Save the trained XGradientBoost model\n",
    "joblib.dump(xgboost_model, 'models/xgboost_model.pkl')"
   ],
   "id": "d156c57b25fee2f9",
   "outputs": [
    {
     "data": {
      "text/plain": [
       "['models/xgboost_model.pkl']"
      ]
     },
     "execution_count": 46,
     "metadata": {},
     "output_type": "execute_result"
    }
   ],
   "execution_count": 46
  }
 ],
 "metadata": {
  "kernelspec": {
   "display_name": "Python 3",
   "language": "python",
   "name": "python3"
  },
  "language_info": {
   "codemirror_mode": {
    "name": "ipython",
    "version": 2
   },
   "file_extension": ".py",
   "mimetype": "text/x-python",
   "name": "python",
   "nbconvert_exporter": "python",
   "pygments_lexer": "ipython2",
   "version": "2.7.6"
  }
 },
 "nbformat": 4,
 "nbformat_minor": 5
}
